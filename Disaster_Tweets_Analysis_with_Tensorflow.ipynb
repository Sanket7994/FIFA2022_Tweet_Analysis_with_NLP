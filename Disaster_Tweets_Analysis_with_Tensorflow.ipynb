{
 "cells": [
  {
   "cell_type": "code",
   "execution_count": 1,
   "id": "925a269c",
   "metadata": {
    "_cell_guid": "b1076dfc-b9ad-4769-8c92-a6c4dae69d19",
    "_uuid": "8f2839f25d086af736a60e9eeb907d3b93b6e0e5",
    "execution": {
     "iopub.execute_input": "2022-12-27T11:07:26.159285Z",
     "iopub.status.busy": "2022-12-27T11:07:26.158662Z",
     "iopub.status.idle": "2022-12-27T11:07:26.175796Z",
     "shell.execute_reply": "2022-12-27T11:07:26.174522Z"
    },
    "papermill": {
     "duration": 0.025852,
     "end_time": "2022-12-27T11:07:26.178571",
     "exception": false,
     "start_time": "2022-12-27T11:07:26.152719",
     "status": "completed"
    },
    "tags": []
   },
   "outputs": [
    {
     "name": "stdout",
     "output_type": "stream",
     "text": [
      "/kaggle/input/nlp-getting-started/sample_submission.csv\n",
      "/kaggle/input/nlp-getting-started/train.csv\n",
      "/kaggle/input/nlp-getting-started/test.csv\n"
     ]
    }
   ],
   "source": [
    "# This Python 3 environment comes with many helpful analytics libraries installed\n",
    "# It is defined by the kaggle/python Docker image: https://github.com/kaggle/docker-python\n",
    "# For example, here's several helpful packages to load\n",
    "\n",
    "import numpy as np # linear algebra\n",
    "import pandas as pd # data processing, CSV file I/O (e.g. pd.read_csv)\n",
    "\n",
    "# Input data files are available in the read-only \"../input/\" directory\n",
    "# For example, running this (by clicking run or pressing Shift+Enter) will list all files under the input directory\n",
    "\n",
    "import os\n",
    "for dirname, _, filenames in os.walk('/kaggle/input'):\n",
    "    for filename in filenames:\n",
    "        print(os.path.join(dirname, filename))\n",
    "\n",
    "# You can write up to 20GB to the current directory (/kaggle/working/) that gets preserved as output when you create a version using \"Save & Run All\" \n",
    "# You can also write temporary files to /kaggle/temp/, but they won't be saved outside of the current session"
   ]
  },
  {
   "cell_type": "code",
   "execution_count": 2,
   "id": "dd74f200",
   "metadata": {
    "execution": {
     "iopub.execute_input": "2022-12-27T11:07:26.187033Z",
     "iopub.status.busy": "2022-12-27T11:07:26.186639Z",
     "iopub.status.idle": "2022-12-27T11:07:27.317203Z",
     "shell.execute_reply": "2022-12-27T11:07:27.315974Z"
    },
    "papermill": {
     "duration": 1.138191,
     "end_time": "2022-12-27T11:07:27.320715",
     "exception": false,
     "start_time": "2022-12-27T11:07:26.182524",
     "status": "completed"
    },
    "tags": []
   },
   "outputs": [],
   "source": [
    "# Basic Dependencies\n",
    "import pandas as pd\n",
    "import numpy as np\n",
    "# For basic Ploting graph and charts\n",
    "import matplotlib.pyplot as plt\n",
    "from pylab import rcParams\n",
    "%matplotlib inline\n",
    "# For more plotting options\n",
    "import seaborn as sns\n",
    "plt.style.use('seaborn-darkgrid')"
   ]
  },
  {
   "cell_type": "code",
   "execution_count": 3,
   "id": "9ecf7efa",
   "metadata": {
    "execution": {
     "iopub.execute_input": "2022-12-27T11:07:27.330544Z",
     "iopub.status.busy": "2022-12-27T11:07:27.330074Z",
     "iopub.status.idle": "2022-12-27T11:07:27.422447Z",
     "shell.execute_reply": "2022-12-27T11:07:27.420949Z"
    },
    "papermill": {
     "duration": 0.100262,
     "end_time": "2022-12-27T11:07:27.425074",
     "exception": false,
     "start_time": "2022-12-27T11:07:27.324812",
     "status": "completed"
    },
    "tags": []
   },
   "outputs": [
    {
     "name": "stdout",
     "output_type": "stream",
     "text": [
      "Train Datab Diamentions: 7613 x 4\n",
      "Test Datab Diamentions: 3263 x 3\n"
     ]
    }
   ],
   "source": [
    "# Settingup the filepath\n",
    "train_path = '/kaggle/input/nlp-getting-started/train.csv'\n",
    "test_path = '/kaggle/input/nlp-getting-started/test.csv'\n",
    "\n",
    "# Creating a Dataframe\n",
    "train_data = pd.read_csv(train_path, index_col='id')\n",
    "test_data = pd.read_csv(test_path, index_col='id')\n",
    "\n",
    "# Shape of data.\n",
    "print(f'Train Datab Diamentions: {train_data.shape[0]} x {train_data.shape[1]}')\n",
    "print(f'Test Datab Diamentions: {test_data.shape[0]} x {test_data.shape[1]}')"
   ]
  },
  {
   "cell_type": "code",
   "execution_count": 4,
   "id": "1f239418",
   "metadata": {
    "execution": {
     "iopub.execute_input": "2022-12-27T11:07:27.433274Z",
     "iopub.status.busy": "2022-12-27T11:07:27.432151Z",
     "iopub.status.idle": "2022-12-27T11:07:27.451878Z",
     "shell.execute_reply": "2022-12-27T11:07:27.450569Z"
    },
    "papermill": {
     "duration": 0.026344,
     "end_time": "2022-12-27T11:07:27.454376",
     "exception": false,
     "start_time": "2022-12-27T11:07:27.428032",
     "status": "completed"
    },
    "tags": []
   },
   "outputs": [
    {
     "data": {
      "text/html": [
       "<div>\n",
       "<style scoped>\n",
       "    .dataframe tbody tr th:only-of-type {\n",
       "        vertical-align: middle;\n",
       "    }\n",
       "\n",
       "    .dataframe tbody tr th {\n",
       "        vertical-align: top;\n",
       "    }\n",
       "\n",
       "    .dataframe thead th {\n",
       "        text-align: right;\n",
       "    }\n",
       "</style>\n",
       "<table border=\"1\" class=\"dataframe\">\n",
       "  <thead>\n",
       "    <tr style=\"text-align: right;\">\n",
       "      <th></th>\n",
       "      <th>keyword</th>\n",
       "      <th>location</th>\n",
       "      <th>text</th>\n",
       "      <th>target</th>\n",
       "    </tr>\n",
       "    <tr>\n",
       "      <th>id</th>\n",
       "      <th></th>\n",
       "      <th></th>\n",
       "      <th></th>\n",
       "      <th></th>\n",
       "    </tr>\n",
       "  </thead>\n",
       "  <tbody>\n",
       "    <tr>\n",
       "      <th>1</th>\n",
       "      <td>NaN</td>\n",
       "      <td>NaN</td>\n",
       "      <td>Our Deeds are the Reason of this #earthquake M...</td>\n",
       "      <td>1</td>\n",
       "    </tr>\n",
       "    <tr>\n",
       "      <th>4</th>\n",
       "      <td>NaN</td>\n",
       "      <td>NaN</td>\n",
       "      <td>Forest fire near La Ronge Sask. Canada</td>\n",
       "      <td>1</td>\n",
       "    </tr>\n",
       "    <tr>\n",
       "      <th>5</th>\n",
       "      <td>NaN</td>\n",
       "      <td>NaN</td>\n",
       "      <td>All residents asked to 'shelter in place' are ...</td>\n",
       "      <td>1</td>\n",
       "    </tr>\n",
       "    <tr>\n",
       "      <th>6</th>\n",
       "      <td>NaN</td>\n",
       "      <td>NaN</td>\n",
       "      <td>13,000 people receive #wildfires evacuation or...</td>\n",
       "      <td>1</td>\n",
       "    </tr>\n",
       "    <tr>\n",
       "      <th>7</th>\n",
       "      <td>NaN</td>\n",
       "      <td>NaN</td>\n",
       "      <td>Just got sent this photo from Ruby #Alaska as ...</td>\n",
       "      <td>1</td>\n",
       "    </tr>\n",
       "  </tbody>\n",
       "</table>\n",
       "</div>"
      ],
      "text/plain": [
       "   keyword location                                               text  target\n",
       "id                                                                            \n",
       "1      NaN      NaN  Our Deeds are the Reason of this #earthquake M...       1\n",
       "4      NaN      NaN             Forest fire near La Ronge Sask. Canada       1\n",
       "5      NaN      NaN  All residents asked to 'shelter in place' are ...       1\n",
       "6      NaN      NaN  13,000 people receive #wildfires evacuation or...       1\n",
       "7      NaN      NaN  Just got sent this photo from Ruby #Alaska as ...       1"
      ]
     },
     "execution_count": 4,
     "metadata": {},
     "output_type": "execute_result"
    }
   ],
   "source": [
    "train_data.head(5)"
   ]
  },
  {
   "cell_type": "code",
   "execution_count": 5,
   "id": "78b1b890",
   "metadata": {
    "execution": {
     "iopub.execute_input": "2022-12-27T11:07:27.462275Z",
     "iopub.status.busy": "2022-12-27T11:07:27.461876Z",
     "iopub.status.idle": "2022-12-27T11:07:27.482072Z",
     "shell.execute_reply": "2022-12-27T11:07:27.480863Z"
    },
    "papermill": {
     "duration": 0.026929,
     "end_time": "2022-12-27T11:07:27.484342",
     "exception": false,
     "start_time": "2022-12-27T11:07:27.457413",
     "status": "completed"
    },
    "tags": []
   },
   "outputs": [
    {
     "name": "stdout",
     "output_type": "stream",
     "text": [
      "<class 'pandas.core.frame.DataFrame'>\n",
      "Int64Index: 7613 entries, 1 to 10873\n",
      "Data columns (total 4 columns):\n",
      " #   Column    Non-Null Count  Dtype \n",
      "---  ------    --------------  ----- \n",
      " 0   keyword   7552 non-null   object\n",
      " 1   location  5080 non-null   object\n",
      " 2   text      7613 non-null   object\n",
      " 3   target    7613 non-null   int64 \n",
      "dtypes: int64(1), object(3)\n",
      "memory usage: 297.4+ KB\n"
     ]
    }
   ],
   "source": [
    "train_data.info()"
   ]
  },
  {
   "cell_type": "markdown",
   "id": "6ed0a4b4",
   "metadata": {
    "papermill": {
     "duration": 0.002815,
     "end_time": "2022-12-27T11:07:27.490286",
     "exception": false,
     "start_time": "2022-12-27T11:07:27.487471",
     "status": "completed"
    },
    "tags": []
   },
   "source": [
    "# Fixing data structure and missing values"
   ]
  },
  {
   "cell_type": "code",
   "execution_count": 6,
   "id": "709000f2",
   "metadata": {
    "execution": {
     "iopub.execute_input": "2022-12-27T11:07:27.498216Z",
     "iopub.status.busy": "2022-12-27T11:07:27.497834Z",
     "iopub.status.idle": "2022-12-27T11:07:27.516358Z",
     "shell.execute_reply": "2022-12-27T11:07:27.515008Z"
    },
    "papermill": {
     "duration": 0.026313,
     "end_time": "2022-12-27T11:07:27.519635",
     "exception": false,
     "start_time": "2022-12-27T11:07:27.493322",
     "status": "completed"
    },
    "tags": []
   },
   "outputs": [
    {
     "name": "stdout",
     "output_type": "stream",
     "text": [
      "      index  Total_Missing  Missing%\n",
      "0  location           2533  0.332720\n",
      "1   keyword             61  0.008013\n",
      "2      text              0  0.000000\n",
      "3    target              0  0.000000\n"
     ]
    }
   ],
   "source": [
    "# checking Null values\n",
    "nulls = train_data.isna().sum().sort_values(ascending=False)\n",
    "total_elements = train_data.shape[0]\n",
    "null_percentage = (train_data.isnull().sum()/total_elements).sort_values(ascending=False)\n",
    "\n",
    "null_table = pd.concat([nulls, null_percentage], axis=1, keys=['Total_Missing', 'Missing%'])\n",
    "null_table.reset_index(inplace=True)\n",
    "null_table.rename(columns= {\"index\": \" Column_Name\"})\n",
    "print(null_table)"
   ]
  }
 ],
 "metadata": {
  "kernelspec": {
   "display_name": "Python 3",
   "language": "python",
   "name": "python3"
  },
  "language_info": {
   "codemirror_mode": {
    "name": "ipython",
    "version": 3
   },
   "file_extension": ".py",
   "mimetype": "text/x-python",
   "name": "python",
   "nbconvert_exporter": "python",
   "pygments_lexer": "ipython3",
   "version": "3.7.12"
  },
  "papermill": {
   "default_parameters": {},
   "duration": 10.485151,
   "end_time": "2022-12-27T11:07:28.244696",
   "environment_variables": {},
   "exception": null,
   "input_path": "__notebook__.ipynb",
   "output_path": "__notebook__.ipynb",
   "parameters": {},
   "start_time": "2022-12-27T11:07:17.759545",
   "version": "2.3.4"
  }
 },
 "nbformat": 4,
 "nbformat_minor": 5
}
